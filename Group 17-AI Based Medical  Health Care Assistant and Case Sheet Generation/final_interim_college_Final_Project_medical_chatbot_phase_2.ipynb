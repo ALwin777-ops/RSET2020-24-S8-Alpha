{
  "cells": [
    {
      "cell_type": "markdown",
      "id": "d5f51798",
      "metadata": {
        "id": "d5f51798"
      },
      "source": [
        "# Disease Predictor\n",
        "\n",
        "This notebook implements a Multi-Label Text Classification model using Bert Preprocessor and Bert Encoders. The model in question will predict the disease a certain individiual may have based on the symptoms that he/she enters in text form."
      ]
    },
    {
      "cell_type": "markdown",
      "id": "a98e2d6b",
      "metadata": {
        "id": "a98e2d6b"
      },
      "source": [
        "# Importing Libraries\n",
        "\n",
        "We are importing the required libraries now for preprocessing our data, building our model and saving our prediction classes."
      ]
    },
    {
      "cell_type": "code",
      "execution_count": null,
      "id": "0v5FLKKRNWA7",
      "metadata": {
        "colab": {
          "base_uri": "https://localhost:8080/",
          "height": 1000
        },
        "id": "0v5FLKKRNWA7",
        "outputId": "4b8b7344-514d-4163-9a44-4c2596c9067a"
      },
      "outputs": [
        {
          "output_type": "stream",
          "name": "stdout",
          "text": [
            "Collecting tensorflow-hub==0.16.0\n",
            "  Downloading tensorflow_hub-0.16.0-py2.py3-none-any.whl (30 kB)\n",
            "Requirement already satisfied: numpy>=1.12.0 in /usr/local/lib/python3.10/dist-packages (from tensorflow-hub==0.16.0) (1.25.2)\n",
            "Requirement already satisfied: protobuf>=3.19.6 in /usr/local/lib/python3.10/dist-packages (from tensorflow-hub==0.16.0) (3.20.3)\n",
            "Installing collected packages: tensorflow-hub\n",
            "  Attempting uninstall: tensorflow-hub\n",
            "    Found existing installation: tensorflow-hub 0.16.1\n",
            "    Uninstalling tensorflow-hub-0.16.1:\n",
            "      Successfully uninstalled tensorflow-hub-0.16.1\n",
            "Successfully installed tensorflow-hub-0.16.0\n",
            "Collecting tensorflow-text==2.9.0\n",
            "  Downloading tensorflow_text-2.9.0-cp310-cp310-manylinux_2_17_x86_64.manylinux2014_x86_64.whl (4.6 MB)\n",
            "\u001b[2K     \u001b[90m━━━━━━━━━━━━━━━━━━━━━━━━━━━━━━━━━━━━━━━━\u001b[0m \u001b[32m4.6/4.6 MB\u001b[0m \u001b[31m19.3 MB/s\u001b[0m eta \u001b[36m0:00:00\u001b[0m\n",
            "\u001b[?25hRequirement already satisfied: tensorflow-hub>=0.8.0 in /usr/local/lib/python3.10/dist-packages (from tensorflow-text==2.9.0) (0.16.0)\n",
            "Collecting tensorflow<2.10,>=2.9.0 (from tensorflow-text==2.9.0)\n",
            "  Downloading tensorflow-2.9.3-cp310-cp310-manylinux_2_17_x86_64.manylinux2014_x86_64.whl (511.8 MB)\n",
            "\u001b[2K     \u001b[90m━━━━━━━━━━━━━━━━━━━━━━━━━━━━━━━━━━━━━━━━\u001b[0m \u001b[32m511.8/511.8 MB\u001b[0m \u001b[31m3.0 MB/s\u001b[0m eta \u001b[36m0:00:00\u001b[0m\n",
            "\u001b[?25hRequirement already satisfied: absl-py>=1.0.0 in /usr/local/lib/python3.10/dist-packages (from tensorflow<2.10,>=2.9.0->tensorflow-text==2.9.0) (1.4.0)\n",
            "Requirement already satisfied: astunparse>=1.6.0 in /usr/local/lib/python3.10/dist-packages (from tensorflow<2.10,>=2.9.0->tensorflow-text==2.9.0) (1.6.3)\n",
            "Collecting flatbuffers<2,>=1.12 (from tensorflow<2.10,>=2.9.0->tensorflow-text==2.9.0)\n",
            "  Downloading flatbuffers-1.12-py2.py3-none-any.whl (15 kB)\n",
            "Collecting gast<=0.4.0,>=0.2.1 (from tensorflow<2.10,>=2.9.0->tensorflow-text==2.9.0)\n",
            "  Downloading gast-0.4.0-py3-none-any.whl (9.8 kB)\n",
            "Requirement already satisfied: google-pasta>=0.1.1 in /usr/local/lib/python3.10/dist-packages (from tensorflow<2.10,>=2.9.0->tensorflow-text==2.9.0) (0.2.0)\n",
            "Requirement already satisfied: grpcio<2.0,>=1.24.3 in /usr/local/lib/python3.10/dist-packages (from tensorflow<2.10,>=2.9.0->tensorflow-text==2.9.0) (1.62.1)\n",
            "Requirement already satisfied: h5py>=2.9.0 in /usr/local/lib/python3.10/dist-packages (from tensorflow<2.10,>=2.9.0->tensorflow-text==2.9.0) (3.9.0)\n",
            "Collecting keras<2.10.0,>=2.9.0rc0 (from tensorflow<2.10,>=2.9.0->tensorflow-text==2.9.0)\n",
            "  Downloading keras-2.9.0-py2.py3-none-any.whl (1.6 MB)\n",
            "\u001b[2K     \u001b[90m━━━━━━━━━━━━━━━━━━━━━━━━━━━━━━━━━━━━━━━━\u001b[0m \u001b[32m1.6/1.6 MB\u001b[0m \u001b[31m76.9 MB/s\u001b[0m eta \u001b[36m0:00:00\u001b[0m\n",
            "\u001b[?25hCollecting keras-preprocessing>=1.1.1 (from tensorflow<2.10,>=2.9.0->tensorflow-text==2.9.0)\n",
            "  Downloading Keras_Preprocessing-1.1.2-py2.py3-none-any.whl (42 kB)\n",
            "\u001b[2K     \u001b[90m━━━━━━━━━━━━━━━━━━━━━━━━━━━━━━━━━━━━━━━━\u001b[0m \u001b[32m42.6/42.6 kB\u001b[0m \u001b[31m6.4 MB/s\u001b[0m eta \u001b[36m0:00:00\u001b[0m\n",
            "\u001b[?25hRequirement already satisfied: libclang>=13.0.0 in /usr/local/lib/python3.10/dist-packages (from tensorflow<2.10,>=2.9.0->tensorflow-text==2.9.0) (18.1.1)\n",
            "Requirement already satisfied: numpy>=1.20 in /usr/local/lib/python3.10/dist-packages (from tensorflow<2.10,>=2.9.0->tensorflow-text==2.9.0) (1.25.2)\n",
            "Requirement already satisfied: opt-einsum>=2.3.2 in /usr/local/lib/python3.10/dist-packages (from tensorflow<2.10,>=2.9.0->tensorflow-text==2.9.0) (3.3.0)\n",
            "Requirement already satisfied: packaging in /usr/local/lib/python3.10/dist-packages (from tensorflow<2.10,>=2.9.0->tensorflow-text==2.9.0) (24.0)\n",
            "Collecting protobuf<3.20,>=3.9.2 (from tensorflow<2.10,>=2.9.0->tensorflow-text==2.9.0)\n",
            "  Downloading protobuf-3.19.6-cp310-cp310-manylinux_2_17_x86_64.manylinux2014_x86_64.whl (1.1 MB)\n",
            "\u001b[2K     \u001b[90m━━━━━━━━━━━━━━━━━━━━━━━━━━━━━━━━━━━━━━━━\u001b[0m \u001b[32m1.1/1.1 MB\u001b[0m \u001b[31m75.5 MB/s\u001b[0m eta \u001b[36m0:00:00\u001b[0m\n",
            "\u001b[?25hRequirement already satisfied: setuptools in /usr/local/lib/python3.10/dist-packages (from tensorflow<2.10,>=2.9.0->tensorflow-text==2.9.0) (67.7.2)\n",
            "Requirement already satisfied: six>=1.12.0 in /usr/local/lib/python3.10/dist-packages (from tensorflow<2.10,>=2.9.0->tensorflow-text==2.9.0) (1.16.0)\n",
            "Collecting tensorboard<2.10,>=2.9 (from tensorflow<2.10,>=2.9.0->tensorflow-text==2.9.0)\n",
            "  Downloading tensorboard-2.9.1-py3-none-any.whl (5.8 MB)\n",
            "\u001b[2K     \u001b[90m━━━━━━━━━━━━━━━━━━━━━━━━━━━━━━━━━━━━━━━━\u001b[0m \u001b[32m5.8/5.8 MB\u001b[0m \u001b[31m106.5 MB/s\u001b[0m eta \u001b[36m0:00:00\u001b[0m\n",
            "\u001b[?25hRequirement already satisfied: tensorflow-io-gcs-filesystem>=0.23.1 in /usr/local/lib/python3.10/dist-packages (from tensorflow<2.10,>=2.9.0->tensorflow-text==2.9.0) (0.36.0)\n",
            "Collecting tensorflow-estimator<2.10.0,>=2.9.0rc0 (from tensorflow<2.10,>=2.9.0->tensorflow-text==2.9.0)\n",
            "  Downloading tensorflow_estimator-2.9.0-py2.py3-none-any.whl (438 kB)\n",
            "\u001b[2K     \u001b[90m━━━━━━━━━━━━━━━━━━━━━━━━━━━━━━━━━━━━━━━━\u001b[0m \u001b[32m438.7/438.7 kB\u001b[0m \u001b[31m50.0 MB/s\u001b[0m eta \u001b[36m0:00:00\u001b[0m\n",
            "\u001b[?25hRequirement already satisfied: termcolor>=1.1.0 in /usr/local/lib/python3.10/dist-packages (from tensorflow<2.10,>=2.9.0->tensorflow-text==2.9.0) (2.4.0)\n",
            "Requirement already satisfied: typing-extensions>=3.6.6 in /usr/local/lib/python3.10/dist-packages (from tensorflow<2.10,>=2.9.0->tensorflow-text==2.9.0) (4.11.0)\n",
            "Requirement already satisfied: wrapt>=1.11.0 in /usr/local/lib/python3.10/dist-packages (from tensorflow<2.10,>=2.9.0->tensorflow-text==2.9.0) (1.14.1)\n",
            "Requirement already satisfied: wheel<1.0,>=0.23.0 in /usr/local/lib/python3.10/dist-packages (from astunparse>=1.6.0->tensorflow<2.10,>=2.9.0->tensorflow-text==2.9.0) (0.43.0)\n",
            "Requirement already satisfied: google-auth<3,>=1.6.3 in /usr/local/lib/python3.10/dist-packages (from tensorboard<2.10,>=2.9->tensorflow<2.10,>=2.9.0->tensorflow-text==2.9.0) (2.27.0)\n",
            "Collecting google-auth-oauthlib<0.5,>=0.4.1 (from tensorboard<2.10,>=2.9->tensorflow<2.10,>=2.9.0->tensorflow-text==2.9.0)\n",
            "  Downloading google_auth_oauthlib-0.4.6-py2.py3-none-any.whl (18 kB)\n",
            "Requirement already satisfied: markdown>=2.6.8 in /usr/local/lib/python3.10/dist-packages (from tensorboard<2.10,>=2.9->tensorflow<2.10,>=2.9.0->tensorflow-text==2.9.0) (3.6)\n",
            "Requirement already satisfied: requests<3,>=2.21.0 in /usr/local/lib/python3.10/dist-packages (from tensorboard<2.10,>=2.9->tensorflow<2.10,>=2.9.0->tensorflow-text==2.9.0) (2.31.0)\n",
            "Collecting tensorboard-data-server<0.7.0,>=0.6.0 (from tensorboard<2.10,>=2.9->tensorflow<2.10,>=2.9.0->tensorflow-text==2.9.0)\n",
            "  Downloading tensorboard_data_server-0.6.1-py3-none-manylinux2010_x86_64.whl (4.9 MB)\n",
            "\u001b[2K     \u001b[90m━━━━━━━━━━━━━━━━━━━━━━━━━━━━━━━━━━━━━━━━\u001b[0m \u001b[32m4.9/4.9 MB\u001b[0m \u001b[31m98.8 MB/s\u001b[0m eta \u001b[36m0:00:00\u001b[0m\n",
            "\u001b[?25hCollecting tensorboard-plugin-wit>=1.6.0 (from tensorboard<2.10,>=2.9->tensorflow<2.10,>=2.9.0->tensorflow-text==2.9.0)\n",
            "  Downloading tensorboard_plugin_wit-1.8.1-py3-none-any.whl (781 kB)\n",
            "\u001b[2K     \u001b[90m━━━━━━━━━━━━━━━━━━━━━━━━━━━━━━━━━━━━━━━━\u001b[0m \u001b[32m781.3/781.3 kB\u001b[0m \u001b[31m70.5 MB/s\u001b[0m eta \u001b[36m0:00:00\u001b[0m\n",
            "\u001b[?25hRequirement already satisfied: werkzeug>=1.0.1 in /usr/local/lib/python3.10/dist-packages (from tensorboard<2.10,>=2.9->tensorflow<2.10,>=2.9.0->tensorflow-text==2.9.0) (3.0.2)\n",
            "Requirement already satisfied: cachetools<6.0,>=2.0.0 in /usr/local/lib/python3.10/dist-packages (from google-auth<3,>=1.6.3->tensorboard<2.10,>=2.9->tensorflow<2.10,>=2.9.0->tensorflow-text==2.9.0) (5.3.3)\n",
            "Requirement already satisfied: pyasn1-modules>=0.2.1 in /usr/local/lib/python3.10/dist-packages (from google-auth<3,>=1.6.3->tensorboard<2.10,>=2.9->tensorflow<2.10,>=2.9.0->tensorflow-text==2.9.0) (0.4.0)\n",
            "Requirement already satisfied: rsa<5,>=3.1.4 in /usr/local/lib/python3.10/dist-packages (from google-auth<3,>=1.6.3->tensorboard<2.10,>=2.9->tensorflow<2.10,>=2.9.0->tensorflow-text==2.9.0) (4.9)\n",
            "Requirement already satisfied: requests-oauthlib>=0.7.0 in /usr/local/lib/python3.10/dist-packages (from google-auth-oauthlib<0.5,>=0.4.1->tensorboard<2.10,>=2.9->tensorflow<2.10,>=2.9.0->tensorflow-text==2.9.0) (1.3.1)\n",
            "Requirement already satisfied: charset-normalizer<4,>=2 in /usr/local/lib/python3.10/dist-packages (from requests<3,>=2.21.0->tensorboard<2.10,>=2.9->tensorflow<2.10,>=2.9.0->tensorflow-text==2.9.0) (3.3.2)\n",
            "Requirement already satisfied: idna<4,>=2.5 in /usr/local/lib/python3.10/dist-packages (from requests<3,>=2.21.0->tensorboard<2.10,>=2.9->tensorflow<2.10,>=2.9.0->tensorflow-text==2.9.0) (3.6)\n",
            "Requirement already satisfied: urllib3<3,>=1.21.1 in /usr/local/lib/python3.10/dist-packages (from requests<3,>=2.21.0->tensorboard<2.10,>=2.9->tensorflow<2.10,>=2.9.0->tensorflow-text==2.9.0) (2.0.7)\n",
            "Requirement already satisfied: certifi>=2017.4.17 in /usr/local/lib/python3.10/dist-packages (from requests<3,>=2.21.0->tensorboard<2.10,>=2.9->tensorflow<2.10,>=2.9.0->tensorflow-text==2.9.0) (2024.2.2)\n",
            "Requirement already satisfied: MarkupSafe>=2.1.1 in /usr/local/lib/python3.10/dist-packages (from werkzeug>=1.0.1->tensorboard<2.10,>=2.9->tensorflow<2.10,>=2.9.0->tensorflow-text==2.9.0) (2.1.5)\n",
            "Requirement already satisfied: pyasn1<0.7.0,>=0.4.6 in /usr/local/lib/python3.10/dist-packages (from pyasn1-modules>=0.2.1->google-auth<3,>=1.6.3->tensorboard<2.10,>=2.9->tensorflow<2.10,>=2.9.0->tensorflow-text==2.9.0) (0.6.0)\n",
            "Requirement already satisfied: oauthlib>=3.0.0 in /usr/local/lib/python3.10/dist-packages (from requests-oauthlib>=0.7.0->google-auth-oauthlib<0.5,>=0.4.1->tensorboard<2.10,>=2.9->tensorflow<2.10,>=2.9.0->tensorflow-text==2.9.0) (3.2.2)\n",
            "Installing collected packages: tensorboard-plugin-wit, keras, flatbuffers, tensorflow-estimator, tensorboard-data-server, protobuf, keras-preprocessing, gast, google-auth-oauthlib, tensorboard, tensorflow, tensorflow-text\n",
            "  Attempting uninstall: keras\n",
            "    Found existing installation: keras 2.15.0\n",
            "    Uninstalling keras-2.15.0:\n",
            "      Successfully uninstalled keras-2.15.0\n",
            "  Attempting uninstall: flatbuffers\n",
            "    Found existing installation: flatbuffers 24.3.25\n",
            "    Uninstalling flatbuffers-24.3.25:\n",
            "      Successfully uninstalled flatbuffers-24.3.25\n",
            "  Attempting uninstall: tensorflow-estimator\n",
            "    Found existing installation: tensorflow-estimator 2.15.0\n",
            "    Uninstalling tensorflow-estimator-2.15.0:\n",
            "      Successfully uninstalled tensorflow-estimator-2.15.0\n",
            "  Attempting uninstall: tensorboard-data-server\n",
            "    Found existing installation: tensorboard-data-server 0.7.2\n",
            "    Uninstalling tensorboard-data-server-0.7.2:\n",
            "      Successfully uninstalled tensorboard-data-server-0.7.2\n",
            "  Attempting uninstall: protobuf\n",
            "    Found existing installation: protobuf 3.20.3\n",
            "    Uninstalling protobuf-3.20.3:\n",
            "      Successfully uninstalled protobuf-3.20.3\n",
            "  Attempting uninstall: gast\n",
            "    Found existing installation: gast 0.5.4\n",
            "    Uninstalling gast-0.5.4:\n",
            "      Successfully uninstalled gast-0.5.4\n",
            "  Attempting uninstall: google-auth-oauthlib\n",
            "    Found existing installation: google-auth-oauthlib 1.2.0\n",
            "    Uninstalling google-auth-oauthlib-1.2.0:\n",
            "      Successfully uninstalled google-auth-oauthlib-1.2.0\n",
            "  Attempting uninstall: tensorboard\n",
            "    Found existing installation: tensorboard 2.15.2\n",
            "    Uninstalling tensorboard-2.15.2:\n",
            "      Successfully uninstalled tensorboard-2.15.2\n",
            "  Attempting uninstall: tensorflow\n",
            "    Found existing installation: tensorflow 2.15.0\n",
            "    Uninstalling tensorflow-2.15.0:\n",
            "      Successfully uninstalled tensorflow-2.15.0\n",
            "\u001b[31mERROR: pip's dependency resolver does not currently take into account all the packages that are installed. This behaviour is the source of the following dependency conflicts.\n",
            "pandas-gbq 0.19.2 requires google-auth-oauthlib>=0.7.0, but you have google-auth-oauthlib 0.4.6 which is incompatible.\n",
            "tensorflow-datasets 4.9.4 requires protobuf>=3.20, but you have protobuf 3.19.6 which is incompatible.\n",
            "tensorflow-metadata 1.14.0 requires protobuf<4.21,>=3.20.3, but you have protobuf 3.19.6 which is incompatible.\n",
            "tf-keras 2.15.1 requires tensorflow<2.16,>=2.15, but you have tensorflow 2.9.3 which is incompatible.\u001b[0m\u001b[31m\n",
            "\u001b[0mSuccessfully installed flatbuffers-1.12 gast-0.4.0 google-auth-oauthlib-0.4.6 keras-2.9.0 keras-preprocessing-1.1.2 protobuf-3.19.6 tensorboard-2.9.1 tensorboard-data-server-0.6.1 tensorboard-plugin-wit-1.8.1 tensorflow-2.9.3 tensorflow-estimator-2.9.0 tensorflow-text-2.9.0\n"
          ]
        },
        {
          "output_type": "display_data",
          "data": {
            "application/vnd.colab-display-data+json": {
              "pip_warning": {
                "packages": [
                  "google"
                ]
              },
              "id": "2c92e7b98a13441597483f3c2734b9e2"
            }
          },
          "metadata": {}
        }
      ],
      "source": [
        "# Install the compatible versions of TensorFlow Hub and TensorFlow Text\n",
        "!pip install tensorflow-hub==0.16.0\n",
        "!pip install tensorflow-text==2.9.0"
      ]
    },
    {
      "cell_type": "code",
      "execution_count": null,
      "id": "479f3e5b",
      "metadata": {
        "id": "479f3e5b"
      },
      "outputs": [],
      "source": [
        "import tensorflow as tf\n",
        "import tensorflow_hub as hub\n",
        "import pandas as pd\n",
        "import sklearn.preprocessing\n",
        "import json\n",
        "import warnings"
      ]
    },
    {
      "cell_type": "code",
      "execution_count": null,
      "id": "de96d2da",
      "metadata": {
        "id": "de96d2da"
      },
      "outputs": [],
      "source": [
        "warnings.filterwarnings('ignore')"
      ]
    },
    {
      "cell_type": "code",
      "execution_count": null,
      "id": "PUipExpCNTUB",
      "metadata": {
        "id": "PUipExpCNTUB"
      },
      "outputs": [],
      "source": [
        "import tensorflow_text as text  # Registers the ops.\n"
      ]
    },
    {
      "cell_type": "markdown",
      "id": "5eaec50b",
      "metadata": {
        "id": "5eaec50b"
      },
      "source": [
        "# Defining Hyperparameters\n",
        "\n",
        "We are defining the number of epochs our model will train and the size of the batches our data will be split into."
      ]
    },
    {
      "cell_type": "code",
      "execution_count": null,
      "id": "78adc5f3",
      "metadata": {
        "id": "78adc5f3"
      },
      "outputs": [],
      "source": [
        "EPOCHS = 8\n",
        "BATCH_SIZE = 64"
      ]
    },
    {
      "cell_type": "markdown",
      "id": "0454c93d",
      "metadata": {
        "id": "0454c93d"
      },
      "source": [
        "# Importing & Cleaning our Data\n",
        "\n",
        "We now import the csv file as a pandas DataFrame and then begin cleaning our data to prepare it for training."
      ]
    },
    {
      "cell_type": "code",
      "execution_count": null,
      "id": "pilSSiqwL0uJ",
      "metadata": {
        "colab": {
          "base_uri": "https://localhost:8080/"
        },
        "id": "pilSSiqwL0uJ",
        "outputId": "2b5d48fc-7dca-44fe-e6b0-8d993546d6c6"
      },
      "outputs": [
        {
          "output_type": "stream",
          "name": "stdout",
          "text": [
            "Mounted at /content/drive\n"
          ]
        }
      ],
      "source": [
        "from google.colab import drive\n",
        "drive.mount('/content/drive')\n"
      ]
    },
    {
      "cell_type": "code",
      "execution_count": null,
      "id": "FiLUrPTWL4ki",
      "metadata": {
        "colab": {
          "base_uri": "https://localhost:8080/",
          "height": 112
        },
        "id": "FiLUrPTWL4ki",
        "outputId": "8fd8f8dd-c466-4c99-c743-b02015650f2b"
      },
      "outputs": [
        {
          "output_type": "execute_result",
          "data": {
            "text/plain": [
              "       label                                               text\n",
              "0  Psoriasis  I have been experiencing a skin rash on my arm...\n",
              "1  Psoriasis  My skin has been peeling, especially on my kne..."
            ],
            "text/html": [
              "\n",
              "  <div id=\"df-9f18843b-6bf4-4182-a5cb-9a696ac24a4e\" class=\"colab-df-container\">\n",
              "    <div>\n",
              "<style scoped>\n",
              "    .dataframe tbody tr th:only-of-type {\n",
              "        vertical-align: middle;\n",
              "    }\n",
              "\n",
              "    .dataframe tbody tr th {\n",
              "        vertical-align: top;\n",
              "    }\n",
              "\n",
              "    .dataframe thead th {\n",
              "        text-align: right;\n",
              "    }\n",
              "</style>\n",
              "<table border=\"1\" class=\"dataframe\">\n",
              "  <thead>\n",
              "    <tr style=\"text-align: right;\">\n",
              "      <th></th>\n",
              "      <th>label</th>\n",
              "      <th>text</th>\n",
              "    </tr>\n",
              "  </thead>\n",
              "  <tbody>\n",
              "    <tr>\n",
              "      <th>0</th>\n",
              "      <td>Psoriasis</td>\n",
              "      <td>I have been experiencing a skin rash on my arm...</td>\n",
              "    </tr>\n",
              "    <tr>\n",
              "      <th>1</th>\n",
              "      <td>Psoriasis</td>\n",
              "      <td>My skin has been peeling, especially on my kne...</td>\n",
              "    </tr>\n",
              "  </tbody>\n",
              "</table>\n",
              "</div>\n",
              "    <div class=\"colab-df-buttons\">\n",
              "\n",
              "  <div class=\"colab-df-container\">\n",
              "    <button class=\"colab-df-convert\" onclick=\"convertToInteractive('df-9f18843b-6bf4-4182-a5cb-9a696ac24a4e')\"\n",
              "            title=\"Convert this dataframe to an interactive table.\"\n",
              "            style=\"display:none;\">\n",
              "\n",
              "  <svg xmlns=\"http://www.w3.org/2000/svg\" height=\"24px\" viewBox=\"0 -960 960 960\">\n",
              "    <path d=\"M120-120v-720h720v720H120Zm60-500h600v-160H180v160Zm220 220h160v-160H400v160Zm0 220h160v-160H400v160ZM180-400h160v-160H180v160Zm440 0h160v-160H620v160ZM180-180h160v-160H180v160Zm440 0h160v-160H620v160Z\"/>\n",
              "  </svg>\n",
              "    </button>\n",
              "\n",
              "  <style>\n",
              "    .colab-df-container {\n",
              "      display:flex;\n",
              "      gap: 12px;\n",
              "    }\n",
              "\n",
              "    .colab-df-convert {\n",
              "      background-color: #E8F0FE;\n",
              "      border: none;\n",
              "      border-radius: 50%;\n",
              "      cursor: pointer;\n",
              "      display: none;\n",
              "      fill: #1967D2;\n",
              "      height: 32px;\n",
              "      padding: 0 0 0 0;\n",
              "      width: 32px;\n",
              "    }\n",
              "\n",
              "    .colab-df-convert:hover {\n",
              "      background-color: #E2EBFA;\n",
              "      box-shadow: 0px 1px 2px rgba(60, 64, 67, 0.3), 0px 1px 3px 1px rgba(60, 64, 67, 0.15);\n",
              "      fill: #174EA6;\n",
              "    }\n",
              "\n",
              "    .colab-df-buttons div {\n",
              "      margin-bottom: 4px;\n",
              "    }\n",
              "\n",
              "    [theme=dark] .colab-df-convert {\n",
              "      background-color: #3B4455;\n",
              "      fill: #D2E3FC;\n",
              "    }\n",
              "\n",
              "    [theme=dark] .colab-df-convert:hover {\n",
              "      background-color: #434B5C;\n",
              "      box-shadow: 0px 1px 3px 1px rgba(0, 0, 0, 0.15);\n",
              "      filter: drop-shadow(0px 1px 2px rgba(0, 0, 0, 0.3));\n",
              "      fill: #FFFFFF;\n",
              "    }\n",
              "  </style>\n",
              "\n",
              "    <script>\n",
              "      const buttonEl =\n",
              "        document.querySelector('#df-9f18843b-6bf4-4182-a5cb-9a696ac24a4e button.colab-df-convert');\n",
              "      buttonEl.style.display =\n",
              "        google.colab.kernel.accessAllowed ? 'block' : 'none';\n",
              "\n",
              "      async function convertToInteractive(key) {\n",
              "        const element = document.querySelector('#df-9f18843b-6bf4-4182-a5cb-9a696ac24a4e');\n",
              "        const dataTable =\n",
              "          await google.colab.kernel.invokeFunction('convertToInteractive',\n",
              "                                                    [key], {});\n",
              "        if (!dataTable) return;\n",
              "\n",
              "        const docLinkHtml = 'Like what you see? Visit the ' +\n",
              "          '<a target=\"_blank\" href=https://colab.research.google.com/notebooks/data_table.ipynb>data table notebook</a>'\n",
              "          + ' to learn more about interactive tables.';\n",
              "        element.innerHTML = '';\n",
              "        dataTable['output_type'] = 'display_data';\n",
              "        await google.colab.output.renderOutput(dataTable, element);\n",
              "        const docLink = document.createElement('div');\n",
              "        docLink.innerHTML = docLinkHtml;\n",
              "        element.appendChild(docLink);\n",
              "      }\n",
              "    </script>\n",
              "  </div>\n",
              "\n",
              "\n",
              "<div id=\"df-528eb32d-126f-45b7-ba1f-08a3ee6b630f\">\n",
              "  <button class=\"colab-df-quickchart\" onclick=\"quickchart('df-528eb32d-126f-45b7-ba1f-08a3ee6b630f')\"\n",
              "            title=\"Suggest charts\"\n",
              "            style=\"display:none;\">\n",
              "\n",
              "<svg xmlns=\"http://www.w3.org/2000/svg\" height=\"24px\"viewBox=\"0 0 24 24\"\n",
              "     width=\"24px\">\n",
              "    <g>\n",
              "        <path d=\"M19 3H5c-1.1 0-2 .9-2 2v14c0 1.1.9 2 2 2h14c1.1 0 2-.9 2-2V5c0-1.1-.9-2-2-2zM9 17H7v-7h2v7zm4 0h-2V7h2v10zm4 0h-2v-4h2v4z\"/>\n",
              "    </g>\n",
              "</svg>\n",
              "  </button>\n",
              "\n",
              "<style>\n",
              "  .colab-df-quickchart {\n",
              "      --bg-color: #E8F0FE;\n",
              "      --fill-color: #1967D2;\n",
              "      --hover-bg-color: #E2EBFA;\n",
              "      --hover-fill-color: #174EA6;\n",
              "      --disabled-fill-color: #AAA;\n",
              "      --disabled-bg-color: #DDD;\n",
              "  }\n",
              "\n",
              "  [theme=dark] .colab-df-quickchart {\n",
              "      --bg-color: #3B4455;\n",
              "      --fill-color: #D2E3FC;\n",
              "      --hover-bg-color: #434B5C;\n",
              "      --hover-fill-color: #FFFFFF;\n",
              "      --disabled-bg-color: #3B4455;\n",
              "      --disabled-fill-color: #666;\n",
              "  }\n",
              "\n",
              "  .colab-df-quickchart {\n",
              "    background-color: var(--bg-color);\n",
              "    border: none;\n",
              "    border-radius: 50%;\n",
              "    cursor: pointer;\n",
              "    display: none;\n",
              "    fill: var(--fill-color);\n",
              "    height: 32px;\n",
              "    padding: 0;\n",
              "    width: 32px;\n",
              "  }\n",
              "\n",
              "  .colab-df-quickchart:hover {\n",
              "    background-color: var(--hover-bg-color);\n",
              "    box-shadow: 0 1px 2px rgba(60, 64, 67, 0.3), 0 1px 3px 1px rgba(60, 64, 67, 0.15);\n",
              "    fill: var(--button-hover-fill-color);\n",
              "  }\n",
              "\n",
              "  .colab-df-quickchart-complete:disabled,\n",
              "  .colab-df-quickchart-complete:disabled:hover {\n",
              "    background-color: var(--disabled-bg-color);\n",
              "    fill: var(--disabled-fill-color);\n",
              "    box-shadow: none;\n",
              "  }\n",
              "\n",
              "  .colab-df-spinner {\n",
              "    border: 2px solid var(--fill-color);\n",
              "    border-color: transparent;\n",
              "    border-bottom-color: var(--fill-color);\n",
              "    animation:\n",
              "      spin 1s steps(1) infinite;\n",
              "  }\n",
              "\n",
              "  @keyframes spin {\n",
              "    0% {\n",
              "      border-color: transparent;\n",
              "      border-bottom-color: var(--fill-color);\n",
              "      border-left-color: var(--fill-color);\n",
              "    }\n",
              "    20% {\n",
              "      border-color: transparent;\n",
              "      border-left-color: var(--fill-color);\n",
              "      border-top-color: var(--fill-color);\n",
              "    }\n",
              "    30% {\n",
              "      border-color: transparent;\n",
              "      border-left-color: var(--fill-color);\n",
              "      border-top-color: var(--fill-color);\n",
              "      border-right-color: var(--fill-color);\n",
              "    }\n",
              "    40% {\n",
              "      border-color: transparent;\n",
              "      border-right-color: var(--fill-color);\n",
              "      border-top-color: var(--fill-color);\n",
              "    }\n",
              "    60% {\n",
              "      border-color: transparent;\n",
              "      border-right-color: var(--fill-color);\n",
              "    }\n",
              "    80% {\n",
              "      border-color: transparent;\n",
              "      border-right-color: var(--fill-color);\n",
              "      border-bottom-color: var(--fill-color);\n",
              "    }\n",
              "    90% {\n",
              "      border-color: transparent;\n",
              "      border-bottom-color: var(--fill-color);\n",
              "    }\n",
              "  }\n",
              "</style>\n",
              "\n",
              "  <script>\n",
              "    async function quickchart(key) {\n",
              "      const quickchartButtonEl =\n",
              "        document.querySelector('#' + key + ' button');\n",
              "      quickchartButtonEl.disabled = true;  // To prevent multiple clicks.\n",
              "      quickchartButtonEl.classList.add('colab-df-spinner');\n",
              "      try {\n",
              "        const charts = await google.colab.kernel.invokeFunction(\n",
              "            'suggestCharts', [key], {});\n",
              "      } catch (error) {\n",
              "        console.error('Error during call to suggestCharts:', error);\n",
              "      }\n",
              "      quickchartButtonEl.classList.remove('colab-df-spinner');\n",
              "      quickchartButtonEl.classList.add('colab-df-quickchart-complete');\n",
              "    }\n",
              "    (() => {\n",
              "      let quickchartButtonEl =\n",
              "        document.querySelector('#df-528eb32d-126f-45b7-ba1f-08a3ee6b630f button');\n",
              "      quickchartButtonEl.style.display =\n",
              "        google.colab.kernel.accessAllowed ? 'block' : 'none';\n",
              "    })();\n",
              "  </script>\n",
              "</div>\n",
              "    </div>\n",
              "  </div>\n"
            ],
            "application/vnd.google.colaboratory.intrinsic+json": {
              "type": "dataframe",
              "variable_name": "df",
              "summary": "{\n  \"name\": \"df\",\n  \"rows\": 1200,\n  \"fields\": [\n    {\n      \"column\": \"label\",\n      \"properties\": {\n        \"dtype\": \"category\",\n        \"num_unique_values\": 24,\n        \"samples\": [\n          \"Pneumonia\",\n          \"Jaundice\",\n          \"Psoriasis\"\n        ],\n        \"semantic_type\": \"\",\n        \"description\": \"\"\n      }\n    },\n    {\n      \"column\": \"text\",\n      \"properties\": {\n        \"dtype\": \"string\",\n        \"num_unique_values\": 1153,\n        \"samples\": [\n          \"I've had back pain, a cough that won't go away, and limb weakness. I've been experiencing neck pain, instability, and balance concerns.\",\n          \"Recently, I've been having problems using the restroom. Going is incredibly difficult, and doing so hurts. In addition, I've been experiencing some butt soreness, and my stools have been bloody. My anus has also been quite itching and aggravated.\",\n          \"I've been exhausted and experiencing nausea and itching. In addition, I've lost weight and have a temperature. My urine is dark, and my skin has turned yellow. Additionally, I've been having stomach pain.\"\n        ],\n        \"semantic_type\": \"\",\n        \"description\": \"\"\n      }\n    }\n  ]\n}"
            }
          },
          "metadata": {},
          "execution_count": 6
        }
      ],
      "source": [
        "file_path = '/content/drive/MyDrive/Colab Notebooks/S2D.csv'\n",
        "df = pd.read_csv(file_path)\n",
        "df.drop('Unnamed: 0', axis='columns', inplace=True)\n",
        "df['label'] = df['label'].apply(lambda x: x.title())\n",
        "df.head(2)"
      ]
    },
    {
      "cell_type": "markdown",
      "id": "bdbaf43f",
      "metadata": {
        "id": "bdbaf43f"
      },
      "source": [
        "## One hot encoding the target labels\n",
        "\n",
        "We now one hot encode the target labels since the labels are in string categorical format and so we convert it to one hot encoded format to make it suitable for training."
      ]
    },
    {
      "cell_type": "markdown",
      "source": [],
      "metadata": {
        "id": "km6tP-v-l_DZ"
      },
      "id": "km6tP-v-l_DZ"
    },
    {
      "cell_type": "code",
      "execution_count": null,
      "id": "d4049e49",
      "metadata": {
        "colab": {
          "base_uri": "https://localhost:8080/",
          "height": 317
        },
        "id": "d4049e49",
        "outputId": "fc574879-d343-47d9-f5ae-1eac4930812f"
      },
      "outputs": [
        {
          "output_type": "execute_result",
          "data": {
            "text/plain": [
              "                                                text  Acne  Allergy  \\\n",
              "0  I have been experiencing a skin rash on my arm...     0        0   \n",
              "1  My skin has been peeling, especially on my kne...     0        0   \n",
              "\n",
              "   Arthritis  Bronchial Asthma  Cervical Spondylosis  Chicken Pox  \\\n",
              "0          0                 0                     0            0   \n",
              "1          0                 0                     0            0   \n",
              "\n",
              "   Common Cold  Dengue  Diabetes  ...  Impetigo  Jaundice  Malaria  Migraine  \\\n",
              "0            0       0         0  ...         0         0        0         0   \n",
              "1            0       0         0  ...         0         0        0         0   \n",
              "\n",
              "   Peptic Ulcer Disease  Pneumonia  Psoriasis  Typhoid  \\\n",
              "0                     0          0          1        0   \n",
              "1                     0          0          1        0   \n",
              "\n",
              "   Urinary Tract Infection  Varicose Veins  \n",
              "0                        0               0  \n",
              "1                        0               0  \n",
              "\n",
              "[2 rows x 25 columns]"
            ],
            "text/html": [
              "\n",
              "  <div id=\"df-33ac5895-c611-41a4-9645-e78f3388118b\" class=\"colab-df-container\">\n",
              "    <div>\n",
              "<style scoped>\n",
              "    .dataframe tbody tr th:only-of-type {\n",
              "        vertical-align: middle;\n",
              "    }\n",
              "\n",
              "    .dataframe tbody tr th {\n",
              "        vertical-align: top;\n",
              "    }\n",
              "\n",
              "    .dataframe thead th {\n",
              "        text-align: right;\n",
              "    }\n",
              "</style>\n",
              "<table border=\"1\" class=\"dataframe\">\n",
              "  <thead>\n",
              "    <tr style=\"text-align: right;\">\n",
              "      <th></th>\n",
              "      <th>text</th>\n",
              "      <th>Acne</th>\n",
              "      <th>Allergy</th>\n",
              "      <th>Arthritis</th>\n",
              "      <th>Bronchial Asthma</th>\n",
              "      <th>Cervical Spondylosis</th>\n",
              "      <th>Chicken Pox</th>\n",
              "      <th>Common Cold</th>\n",
              "      <th>Dengue</th>\n",
              "      <th>Diabetes</th>\n",
              "      <th>...</th>\n",
              "      <th>Impetigo</th>\n",
              "      <th>Jaundice</th>\n",
              "      <th>Malaria</th>\n",
              "      <th>Migraine</th>\n",
              "      <th>Peptic Ulcer Disease</th>\n",
              "      <th>Pneumonia</th>\n",
              "      <th>Psoriasis</th>\n",
              "      <th>Typhoid</th>\n",
              "      <th>Urinary Tract Infection</th>\n",
              "      <th>Varicose Veins</th>\n",
              "    </tr>\n",
              "  </thead>\n",
              "  <tbody>\n",
              "    <tr>\n",
              "      <th>0</th>\n",
              "      <td>I have been experiencing a skin rash on my arm...</td>\n",
              "      <td>0</td>\n",
              "      <td>0</td>\n",
              "      <td>0</td>\n",
              "      <td>0</td>\n",
              "      <td>0</td>\n",
              "      <td>0</td>\n",
              "      <td>0</td>\n",
              "      <td>0</td>\n",
              "      <td>0</td>\n",
              "      <td>...</td>\n",
              "      <td>0</td>\n",
              "      <td>0</td>\n",
              "      <td>0</td>\n",
              "      <td>0</td>\n",
              "      <td>0</td>\n",
              "      <td>0</td>\n",
              "      <td>1</td>\n",
              "      <td>0</td>\n",
              "      <td>0</td>\n",
              "      <td>0</td>\n",
              "    </tr>\n",
              "    <tr>\n",
              "      <th>1</th>\n",
              "      <td>My skin has been peeling, especially on my kne...</td>\n",
              "      <td>0</td>\n",
              "      <td>0</td>\n",
              "      <td>0</td>\n",
              "      <td>0</td>\n",
              "      <td>0</td>\n",
              "      <td>0</td>\n",
              "      <td>0</td>\n",
              "      <td>0</td>\n",
              "      <td>0</td>\n",
              "      <td>...</td>\n",
              "      <td>0</td>\n",
              "      <td>0</td>\n",
              "      <td>0</td>\n",
              "      <td>0</td>\n",
              "      <td>0</td>\n",
              "      <td>0</td>\n",
              "      <td>1</td>\n",
              "      <td>0</td>\n",
              "      <td>0</td>\n",
              "      <td>0</td>\n",
              "    </tr>\n",
              "  </tbody>\n",
              "</table>\n",
              "<p>2 rows × 25 columns</p>\n",
              "</div>\n",
              "    <div class=\"colab-df-buttons\">\n",
              "\n",
              "  <div class=\"colab-df-container\">\n",
              "    <button class=\"colab-df-convert\" onclick=\"convertToInteractive('df-33ac5895-c611-41a4-9645-e78f3388118b')\"\n",
              "            title=\"Convert this dataframe to an interactive table.\"\n",
              "            style=\"display:none;\">\n",
              "\n",
              "  <svg xmlns=\"http://www.w3.org/2000/svg\" height=\"24px\" viewBox=\"0 -960 960 960\">\n",
              "    <path d=\"M120-120v-720h720v720H120Zm60-500h600v-160H180v160Zm220 220h160v-160H400v160Zm0 220h160v-160H400v160ZM180-400h160v-160H180v160Zm440 0h160v-160H620v160ZM180-180h160v-160H180v160Zm440 0h160v-160H620v160Z\"/>\n",
              "  </svg>\n",
              "    </button>\n",
              "\n",
              "  <style>\n",
              "    .colab-df-container {\n",
              "      display:flex;\n",
              "      gap: 12px;\n",
              "    }\n",
              "\n",
              "    .colab-df-convert {\n",
              "      background-color: #E8F0FE;\n",
              "      border: none;\n",
              "      border-radius: 50%;\n",
              "      cursor: pointer;\n",
              "      display: none;\n",
              "      fill: #1967D2;\n",
              "      height: 32px;\n",
              "      padding: 0 0 0 0;\n",
              "      width: 32px;\n",
              "    }\n",
              "\n",
              "    .colab-df-convert:hover {\n",
              "      background-color: #E2EBFA;\n",
              "      box-shadow: 0px 1px 2px rgba(60, 64, 67, 0.3), 0px 1px 3px 1px rgba(60, 64, 67, 0.15);\n",
              "      fill: #174EA6;\n",
              "    }\n",
              "\n",
              "    .colab-df-buttons div {\n",
              "      margin-bottom: 4px;\n",
              "    }\n",
              "\n",
              "    [theme=dark] .colab-df-convert {\n",
              "      background-color: #3B4455;\n",
              "      fill: #D2E3FC;\n",
              "    }\n",
              "\n",
              "    [theme=dark] .colab-df-convert:hover {\n",
              "      background-color: #434B5C;\n",
              "      box-shadow: 0px 1px 3px 1px rgba(0, 0, 0, 0.15);\n",
              "      filter: drop-shadow(0px 1px 2px rgba(0, 0, 0, 0.3));\n",
              "      fill: #FFFFFF;\n",
              "    }\n",
              "  </style>\n",
              "\n",
              "    <script>\n",
              "      const buttonEl =\n",
              "        document.querySelector('#df-33ac5895-c611-41a4-9645-e78f3388118b button.colab-df-convert');\n",
              "      buttonEl.style.display =\n",
              "        google.colab.kernel.accessAllowed ? 'block' : 'none';\n",
              "\n",
              "      async function convertToInteractive(key) {\n",
              "        const element = document.querySelector('#df-33ac5895-c611-41a4-9645-e78f3388118b');\n",
              "        const dataTable =\n",
              "          await google.colab.kernel.invokeFunction('convertToInteractive',\n",
              "                                                    [key], {});\n",
              "        if (!dataTable) return;\n",
              "\n",
              "        const docLinkHtml = 'Like what you see? Visit the ' +\n",
              "          '<a target=\"_blank\" href=https://colab.research.google.com/notebooks/data_table.ipynb>data table notebook</a>'\n",
              "          + ' to learn more about interactive tables.';\n",
              "        element.innerHTML = '';\n",
              "        dataTable['output_type'] = 'display_data';\n",
              "        await google.colab.output.renderOutput(dataTable, element);\n",
              "        const docLink = document.createElement('div');\n",
              "        docLink.innerHTML = docLinkHtml;\n",
              "        element.appendChild(docLink);\n",
              "      }\n",
              "    </script>\n",
              "  </div>\n",
              "\n",
              "\n",
              "<div id=\"df-27470944-a262-4f89-b8a9-8f2aaaf0cc7b\">\n",
              "  <button class=\"colab-df-quickchart\" onclick=\"quickchart('df-27470944-a262-4f89-b8a9-8f2aaaf0cc7b')\"\n",
              "            title=\"Suggest charts\"\n",
              "            style=\"display:none;\">\n",
              "\n",
              "<svg xmlns=\"http://www.w3.org/2000/svg\" height=\"24px\"viewBox=\"0 0 24 24\"\n",
              "     width=\"24px\">\n",
              "    <g>\n",
              "        <path d=\"M19 3H5c-1.1 0-2 .9-2 2v14c0 1.1.9 2 2 2h14c1.1 0 2-.9 2-2V5c0-1.1-.9-2-2-2zM9 17H7v-7h2v7zm4 0h-2V7h2v10zm4 0h-2v-4h2v4z\"/>\n",
              "    </g>\n",
              "</svg>\n",
              "  </button>\n",
              "\n",
              "<style>\n",
              "  .colab-df-quickchart {\n",
              "      --bg-color: #E8F0FE;\n",
              "      --fill-color: #1967D2;\n",
              "      --hover-bg-color: #E2EBFA;\n",
              "      --hover-fill-color: #174EA6;\n",
              "      --disabled-fill-color: #AAA;\n",
              "      --disabled-bg-color: #DDD;\n",
              "  }\n",
              "\n",
              "  [theme=dark] .colab-df-quickchart {\n",
              "      --bg-color: #3B4455;\n",
              "      --fill-color: #D2E3FC;\n",
              "      --hover-bg-color: #434B5C;\n",
              "      --hover-fill-color: #FFFFFF;\n",
              "      --disabled-bg-color: #3B4455;\n",
              "      --disabled-fill-color: #666;\n",
              "  }\n",
              "\n",
              "  .colab-df-quickchart {\n",
              "    background-color: var(--bg-color);\n",
              "    border: none;\n",
              "    border-radius: 50%;\n",
              "    cursor: pointer;\n",
              "    display: none;\n",
              "    fill: var(--fill-color);\n",
              "    height: 32px;\n",
              "    padding: 0;\n",
              "    width: 32px;\n",
              "  }\n",
              "\n",
              "  .colab-df-quickchart:hover {\n",
              "    background-color: var(--hover-bg-color);\n",
              "    box-shadow: 0 1px 2px rgba(60, 64, 67, 0.3), 0 1px 3px 1px rgba(60, 64, 67, 0.15);\n",
              "    fill: var(--button-hover-fill-color);\n",
              "  }\n",
              "\n",
              "  .colab-df-quickchart-complete:disabled,\n",
              "  .colab-df-quickchart-complete:disabled:hover {\n",
              "    background-color: var(--disabled-bg-color);\n",
              "    fill: var(--disabled-fill-color);\n",
              "    box-shadow: none;\n",
              "  }\n",
              "\n",
              "  .colab-df-spinner {\n",
              "    border: 2px solid var(--fill-color);\n",
              "    border-color: transparent;\n",
              "    border-bottom-color: var(--fill-color);\n",
              "    animation:\n",
              "      spin 1s steps(1) infinite;\n",
              "  }\n",
              "\n",
              "  @keyframes spin {\n",
              "    0% {\n",
              "      border-color: transparent;\n",
              "      border-bottom-color: var(--fill-color);\n",
              "      border-left-color: var(--fill-color);\n",
              "    }\n",
              "    20% {\n",
              "      border-color: transparent;\n",
              "      border-left-color: var(--fill-color);\n",
              "      border-top-color: var(--fill-color);\n",
              "    }\n",
              "    30% {\n",
              "      border-color: transparent;\n",
              "      border-left-color: var(--fill-color);\n",
              "      border-top-color: var(--fill-color);\n",
              "      border-right-color: var(--fill-color);\n",
              "    }\n",
              "    40% {\n",
              "      border-color: transparent;\n",
              "      border-right-color: var(--fill-color);\n",
              "      border-top-color: var(--fill-color);\n",
              "    }\n",
              "    60% {\n",
              "      border-color: transparent;\n",
              "      border-right-color: var(--fill-color);\n",
              "    }\n",
              "    80% {\n",
              "      border-color: transparent;\n",
              "      border-right-color: var(--fill-color);\n",
              "      border-bottom-color: var(--fill-color);\n",
              "    }\n",
              "    90% {\n",
              "      border-color: transparent;\n",
              "      border-bottom-color: var(--fill-color);\n",
              "    }\n",
              "  }\n",
              "</style>\n",
              "\n",
              "  <script>\n",
              "    async function quickchart(key) {\n",
              "      const quickchartButtonEl =\n",
              "        document.querySelector('#' + key + ' button');\n",
              "      quickchartButtonEl.disabled = true;  // To prevent multiple clicks.\n",
              "      quickchartButtonEl.classList.add('colab-df-spinner');\n",
              "      try {\n",
              "        const charts = await google.colab.kernel.invokeFunction(\n",
              "            'suggestCharts', [key], {});\n",
              "      } catch (error) {\n",
              "        console.error('Error during call to suggestCharts:', error);\n",
              "      }\n",
              "      quickchartButtonEl.classList.remove('colab-df-spinner');\n",
              "      quickchartButtonEl.classList.add('colab-df-quickchart-complete');\n",
              "    }\n",
              "    (() => {\n",
              "      let quickchartButtonEl =\n",
              "        document.querySelector('#df-27470944-a262-4f89-b8a9-8f2aaaf0cc7b button');\n",
              "      quickchartButtonEl.style.display =\n",
              "        google.colab.kernel.accessAllowed ? 'block' : 'none';\n",
              "    })();\n",
              "  </script>\n",
              "</div>\n",
              "    </div>\n",
              "  </div>\n"
            ],
            "application/vnd.google.colaboratory.intrinsic+json": {
              "type": "dataframe",
              "variable_name": "df"
            }
          },
          "metadata": {},
          "execution_count": 7
        }
      ],
      "source": [
        "label_binarizer = sklearn.preprocessing.LabelBinarizer()\n",
        "df = df.join(pd.DataFrame(label_binarizer.fit_transform(df['label']),\n",
        "                         columns=label_binarizer.classes_,\n",
        "                         index=df.index\n",
        "                         ))\n",
        "df.drop('label', axis='columns', inplace=True)\n",
        "df.head(2)"
      ]
    },
    {
      "cell_type": "markdown",
      "id": "8c76d57b",
      "metadata": {
        "id": "8c76d57b"
      },
      "source": [
        "# Preparing Training & Validation Datasets\n",
        "\n",
        "The next step is to split our DataFrames for training and testing and convert them to ```tf.data.Datasets()``` to apply batching and then caching and prefetching the data for faster training."
      ]
    },
    {
      "cell_type": "code",
      "source": [
        "classes = df.columns.tolist()  # Get the list of classes from your DataFrame\n",
        "\n",
        "print(classes)"
      ],
      "metadata": {
        "colab": {
          "base_uri": "https://localhost:8080/"
        },
        "id": "27eQvzzQnMKy",
        "outputId": "bc748f2c-f5f9-41f0-cb83-4782f4bc22b7"
      },
      "id": "27eQvzzQnMKy",
      "execution_count": null,
      "outputs": [
        {
          "output_type": "stream",
          "name": "stdout",
          "text": [
            "['text', 'Acne', 'Allergy', 'Arthritis', 'Bronchial Asthma', 'Cervical Spondylosis', 'Chicken Pox', 'Common Cold', 'Dengue', 'Diabetes', 'Dimorphic Hemorrhoids', 'Drug Reaction', 'Fungal Infection', 'Gastroesophageal Reflux Disease', 'Hypertension', 'Impetigo', 'Jaundice', 'Malaria', 'Migraine', 'Peptic Ulcer Disease', 'Pneumonia', 'Psoriasis', 'Typhoid', 'Urinary Tract Infection', 'Varicose Veins']\n"
          ]
        }
      ]
    },
    {
      "cell_type": "code",
      "execution_count": null,
      "id": "8c43cf7e",
      "metadata": {
        "colab": {
          "base_uri": "https://localhost:8080/"
        },
        "id": "8c43cf7e",
        "outputId": "33e79aeb-fe35-4fb2-c4b3-ab17d0a02b48"
      },
      "outputs": [
        {
          "output_type": "stream",
          "name": "stdout",
          "text": [
            "Training Dataset Size: 960\n",
            "Validation Dataset Size: 240\n"
          ]
        }
      ],
      "source": [
        "val_df = df.sample(frac=0.2)\n",
        "train_df = df.drop(val_df.index)\n",
        "\n",
        "print(f'Training Dataset Size: {len(train_df)}', f'Validation Dataset Size: {len(val_df)}', sep='\\n')"
      ]
    },
    {
      "cell_type": "code",
      "execution_count": null,
      "id": "ced6d6dd",
      "metadata": {
        "id": "ced6d6dd"
      },
      "outputs": [],
      "source": [
        "def dataframe_to_tf_dataset(dataframe):\n",
        "    dataframe = dataframe.copy()\n",
        "    feature = dataframe.pop('text')\n",
        "    ds = tf.data.Dataset.from_tensor_slices((feature, dataframe))\n",
        "    ds = ds.shuffle(buffer_size=len(dataframe))\n",
        "    return ds"
      ]
    },
    {
      "cell_type": "code",
      "execution_count": null,
      "id": "a9292657",
      "metadata": {
        "id": "a9292657"
      },
      "outputs": [],
      "source": [
        "train_ds = dataframe_to_tf_dataset(train_df).batch(BATCH_SIZE).cache().prefetch(tf.data.AUTOTUNE)\n",
        "val_ds = dataframe_to_tf_dataset(val_df).batch(BATCH_SIZE).cache().prefetch(tf.data.AUTOTUNE)"
      ]
    },
    {
      "cell_type": "markdown",
      "id": "1ae5da08",
      "metadata": {
        "id": "1ae5da08"
      },
      "source": [
        "# Building our Model\n",
        "\n",
        "Now we move on to the main part, where we define the layers of the model."
      ]
    },
    {
      "cell_type": "markdown",
      "id": "385cdd41",
      "metadata": {
        "id": "385cdd41"
      },
      "source": [
        "## A description of our Model\n",
        "\n",
        "We are building a keras Model using the functional API. The following is the description of the layers that we are using:\n",
        "\n",
        "* We first create an Input Layer where we take the raw string as an input. The BERT preprocessor can handle raw strings from the dataset unlike the keras Embedding layer.\n",
        "* The next step is to create a BERT preprocessor layer which would process our raw string and convert it to an useful form for the BERT encoders. The layer tokenizes our string and also uses Positional and Token Embeddings for extraction of context.\n",
        "* The encoder is based on the Transformer architecture which then processes our encoded string and gives a pooled output.\n",
        "* We then use a Dropout layer to prevent overfitting our model\n",
        "* We then create another Dense Layer with 24 nodes representing our 24 classes with the softmax activation function as the output"
      ]
    },
    {
      "cell_type": "code",
      "execution_count": null,
      "id": "8rz6mpMGLvFO",
      "metadata": {
        "id": "8rz6mpMGLvFO"
      },
      "outputs": [],
      "source": [
        "\n",
        "text_input = tf.keras.Input(shape=(), name='text', dtype='string')\n",
        "preprocessor = hub.KerasLayer(\"https://kaggle.com/models/tensorflow/bert/frameworks/TensorFlow2/variations/en-uncased-preprocess/versions/3\", name='bert_preprocessor')\n",
        "encoder_inputs = preprocessor(text_input)\n",
        "encoder = hub.KerasLayer(\"https://www.kaggle.com/models/tensorflow/bert/frameworks/TensorFlow2/variations/bert-en-uncased-l-6-h-128-a-2/versions/2\" , trainable=True, name='bert_encoder')\n",
        "outputs = encoder(encoder_inputs)\n",
        "pooled_output = outputs['pooled_output']\n",
        "x = tf.keras.layers.Dropout(0.20, name='dropout')(pooled_output)\n",
        "outputs = tf.keras.layers.Dense(24, activation='softmax', name='output')(x)\n",
        "lstm_model = tf.keras.Sequential([\n",
        "    tf.keras.layers.LSTM(128, return_sequences=True),\n",
        "    tf.keras.layers.Dropout(0.20),\n",
        "    tf.keras.layers.LSTM(128),\n",
        "    tf.keras.layers.Dropout(0.20),\n",
        "    tf.keras.layers.Dense(24, activation='softmax')\n",
        "])\n",
        "\n",
        "# Reshape the output from the BERT model\n",
        "x = tf.keras.layers.Reshape((1, 24))(outputs)\n",
        "lstm_output = lstm_model(x)\n",
        "\n",
        "model = tf.keras.Model(inputs=text_input, outputs=[outputs, lstm_output])\n",
        "\n",
        "model.compile(loss='categorical_crossentropy', optimizer='adam', metrics=['accuracy'])\n"
      ]
    },
    {
      "cell_type": "code",
      "execution_count": null,
      "id": "7ab63ce0",
      "metadata": {
        "colab": {
          "base_uri": "https://localhost:8080/",
          "height": 598
        },
        "id": "7ab63ce0",
        "outputId": "9f7059ef-f2d1-438e-a6ca-5e10f911c96f"
      },
      "outputs": [
        {
          "data": {
            "image/png": "[encoded data removed]",
            "text/plain": [
              "<IPython.core.display.Image object>"
            ]
          },
          "execution_count": 12,
          "metadata": {},
          "output_type": "execute_result"
        }
      ],
      "source": [
        "tf.keras.utils.plot_model(model, show_shapes=True, show_dtype=True)"
      ]
    },
    {
      "cell_type": "code",
      "execution_count": null,
      "id": "ae4d5c5b",
      "metadata": {
        "colab": {
          "base_uri": "https://localhost:8080/"
        },
        "id": "ae4d5c5b",
        "outputId": "28a1287d-272a-4d7f-801f-f29b715ec232"
      },
      "outputs": [
        {
          "output_type": "stream",
          "name": "stdout",
          "text": [
            "Epoch 1/8\n",
            "15/15 [==============================] - 45s 2s/step - loss: 6.5510 - output_loss: 3.3726 - sequential_loss: 3.1784 - output_accuracy: 0.0510 - sequential_accuracy: 0.0281 - val_loss: 6.1571 - val_output_loss: 2.9784 - val_sequential_loss: 3.1787 - val_output_accuracy: 0.1542 - val_sequential_accuracy: 0.0333\n",
            "Epoch 2/8\n",
            "15/15 [==============================] - 32s 2s/step - loss: 5.6069 - output_loss: 2.4298 - sequential_loss: 3.1771 - output_accuracy: 0.2844 - sequential_accuracy: 0.0510 - val_loss: 4.7104 - val_output_loss: 1.5340 - val_sequential_loss: 3.1764 - val_output_accuracy: 0.6333 - val_sequential_accuracy: 0.0958\n",
            "Epoch 3/8\n",
            "15/15 [==============================] - 33s 2s/step - loss: 4.4902 - output_loss: 1.3211 - sequential_loss: 3.1690 - output_accuracy: 0.6625 - sequential_accuracy: 0.1771 - val_loss: 4.0047 - val_output_loss: 0.8448 - val_sequential_loss: 3.1599 - val_output_accuracy: 0.7875 - val_sequential_accuracy: 0.4333\n",
            "Epoch 4/8\n",
            "15/15 [==============================] - 34s 2s/step - loss: 3.7967 - output_loss: 0.6574 - sequential_loss: 3.1393 - output_accuracy: 0.8531 - sequential_accuracy: 0.5219 - val_loss: 3.5925 - val_output_loss: 0.4820 - val_sequential_loss: 3.1105 - val_output_accuracy: 0.8583 - val_sequential_accuracy: 0.6625\n",
            "Epoch 5/8\n",
            "15/15 [==============================] - 34s 2s/step - loss: 3.3806 - output_loss: 0.3183 - sequential_loss: 3.0623 - output_accuracy: 0.9490 - sequential_accuracy: 0.6969 - val_loss: 3.3145 - val_output_loss: 0.3153 - val_sequential_loss: 2.9993 - val_output_accuracy: 0.9292 - val_sequential_accuracy: 0.7500\n",
            "Epoch 6/8\n",
            "15/15 [==============================] - 34s 2s/step - loss: 3.0356 - output_loss: 0.1434 - sequential_loss: 2.8922 - output_accuracy: 0.9854 - sequential_accuracy: 0.7385 - val_loss: 2.9994 - val_output_loss: 0.2236 - val_sequential_loss: 2.7758 - val_output_accuracy: 0.9500 - val_sequential_accuracy: 0.7000\n",
            "Epoch 7/8\n",
            "15/15 [==============================] - 33s 2s/step - loss: 2.6818 - output_loss: 0.0899 - sequential_loss: 2.5919 - output_accuracy: 0.9865 - sequential_accuracy: 0.6906 - val_loss: 2.6299 - val_output_loss: 0.2020 - val_sequential_loss: 2.4278 - val_output_accuracy: 0.9333 - val_sequential_accuracy: 0.6750\n",
            "Epoch 8/8\n",
            "15/15 [==============================] - 32s 2s/step - loss: 2.2557 - output_loss: 0.0774 - sequential_loss: 2.1784 - output_accuracy: 0.9885 - sequential_accuracy: 0.6802 - val_loss: 2.1428 - val_output_loss: 0.1619 - val_sequential_loss: 1.9809 - val_output_accuracy: 0.9542 - val_sequential_accuracy: 0.7083\n"
          ]
        },
        {
          "output_type": "execute_result",
          "data": {
            "text/plain": [
              "<keras.callbacks.History at 0x7f4ce223d480>"
            ]
          },
          "metadata": {},
          "execution_count": 12
        }
      ],
      "source": [
        "model.fit(train_ds, epochs=EPOCHS, validation_data=val_ds)"
      ]
    },
    {
      "cell_type": "code",
      "source": [],
      "metadata": {
        "id": "-yc6J9MffV9D"
      },
      "id": "-yc6J9MffV9D",
      "execution_count": null,
      "outputs": []
    },
    {
      "cell_type": "markdown",
      "id": "f335a319",
      "metadata": {
        "id": "f335a319"
      },
      "source": [
        "# Testing our Model\n",
        "\n",
        "We now test our model using some custom inputs to check its predictions."
      ]
    },
    {
      "cell_type": "markdown",
      "id": "49547be4",
      "metadata": {
        "id": "49547be4"
      },
      "source": [
        "## The predict function\n",
        "\n",
        "The predict function here takes text as a parameter which is the string containing the user prompt. It then creates a dictionary with a key ```text``` and the value as the entered prompt. We then convert the entered prompt into a tensor so that our model can predict the class. We finally use the ```predict``` function of our model to predict the probability (the softmax function) of all our classes and we return the top three classes with the highest probability."
      ]
    },
    {
      "cell_type": "code",
      "execution_count": null,
      "id": "kjvRnf6hcMf4",
      "metadata": {
        "id": "kjvRnf6hcMf4"
      },
      "outputs": [],
      "source": [
        "import numpy as np\n",
        "def predict(symptoms):\n",
        "    feature = {'text': symptoms}\n",
        "    input_dict = {name: tf.convert_to_tensor([value]) for name, value in feature.items()}\n",
        "    predictions = model.predict(input_dict, verbose=0)\n",
        "    classes = label_binarizer.classes_\n",
        "    predictions_dict = {}\n",
        "    for i in range(len(classes)):\n",
        "        if np.argmax(predictions[0]) == i:\n",
        "            predictions_dict[classes[i]] = np.max(predictions[0]) * 100\n",
        "    sorted_predictions = sorted(predictions_dict.items(), key=lambda x: x[1], reverse=True)\n",
        "    predictions_dict = dict(sorted_predictions)\n",
        "    count = 0\n",
        "    for disease, prediction in predictions_dict.items():\n",
        "        if count == 1:\n",
        "            break\n",
        "        print(f\"Based on the symptoms provided, there exist a {prediction:.2f}% chance that you are suffering from {disease}\\n\")\n",
        "        count += 1\n"
      ]
    },
    {
      "cell_type": "code",
      "execution_count": null,
      "id": "Ws6f0IbXq1lo",
      "metadata": {
        "id": "Ws6f0IbXq1lo"
      },
      "outputs": [],
      "source": [
        "# prompt: i have a csv file named test stored in the same folder where symptoms2disease.csv is stored. when the disease is predicted, map the predicted disease under the column label to the corressponding test column named test in the csv file  named test and display the corressponding output based on the disease predicted . integrate it with the predict function\n",
        "\n",
        "import pandas as pd\n",
        "import numpy as np\n",
        "def predict_with_test_results(symptoms):\n",
        "    feature = {'text': symptoms}\n",
        "    input_dict = {name: tf.convert_to_tensor([value]) for name, value in feature.items()}\n",
        "    predictions = model.predict(input_dict, verbose=0)\n",
        "    classes = label_binarizer.classes_\n",
        "    predictions_dict = {}\n",
        "    for i in range(len(classes)):\n",
        "        if np.argmax(predictions[0]) == i:\n",
        "            predictions_dict[classes[i]] = np.max(predictions[0]) * 100\n",
        "    sorted_predictions = sorted(predictions_dict.items(), key=lambda x: x[1], reverse=True)\n",
        "    predictions_dict = dict(sorted_predictions)\n",
        "    count = 0\n",
        "    for disease, prediction in predictions_dict.items():\n",
        "        if count == 1:\n",
        "            break\n",
        "        print(f\"Based on the symptoms provided, there exist a {prediction:.2f}% chance that you are suffering from {disease}\\n\")\n",
        "        count += 1\n",
        "\n",
        "    return disease\n",
        "\n",
        "\n",
        "\n",
        "\n"
      ]
    },
    {
      "cell_type": "code",
      "execution_count": null,
      "id": "kNdDDE9fu6jn",
      "metadata": {
        "colab": {
          "base_uri": "https://localhost:8080/"
        },
        "id": "kNdDDE9fu6jn",
        "outputId": "a1844973-5ccd-4729-bd00-6e33b306da8d"
      },
      "outputs": [
        {
          "name": "stdout",
          "output_type": "stream",
          "text": [
            "9\n"
          ]
        }
      ],
      "source": [
        "test_df = pd.read_csv('/content/drive/MyDrive/Colab Notebooks/test.csv')\n",
        "print(len(test_df))"
      ]
    },
    {
      "cell_type": "code",
      "execution_count": null,
      "id": "kDOkO44IMTUz",
      "metadata": {
        "colab": {
          "base_uri": "https://localhost:8080/"
        },
        "id": "kDOkO44IMTUz",
        "outputId": "c26784e0-0b0b-4b78-9fcc-f8c3c5e65f9f"
      },
      "outputs": [
        {
          "name": "stdout",
          "output_type": "stream",
          "text": [
            "Requirement already satisfied: tabulate in /usr/local/lib/python3.10/dist-packages (0.9.0)\n"
          ]
        }
      ],
      "source": [
        "!pip install tabulate"
      ]
    },
    {
      "cell_type": "code",
      "execution_count": null,
      "id": "jiwNooA-75Tx",
      "metadata": {
        "colab": {
          "base_uri": "https://localhost:8080/"
        },
        "id": "jiwNooA-75Tx",
        "outputId": "5a44142e-098b-4013-f942-ee9cad9cf936"
      },
      "outputs": [
        {
          "output_type": "stream",
          "name": "stdout",
          "text": [
            "Requirement already satisfied: python-docx in /usr/local/lib/python3.10/dist-packages (1.1.0)\n",
            "Requirement already satisfied: lxml>=3.1.0 in /usr/local/lib/python3.10/dist-packages (from python-docx) (4.9.4)\n",
            "Requirement already satisfied: typing-extensions in /usr/local/lib/python3.10/dist-packages (from python-docx) (4.11.0)\n",
            "File '/content/drive/MyDrive/Colab Notebooks/patient_details.txt' created successfully.\n",
            "\n",
            "Enter patient's medical history:\n",
            "Enter a medical condition (or 'done' to finish): done\n",
            "\n",
            "Enter current symptoms: I keep sneezing, and I'm miserable and exhausted. I have a lot of gunky things in my nose and throat, and my throat is really hurting. My neck also feels puffy and swollen.\n",
            "File '/content/drive/MyDrive/Colab Notebooks/medical_file.txt' created successfully.\n",
            "Based on the symptoms provided, there exist a 99.15% chance that you are suffering from Common Cold\n",
            "\n",
            "Common Cold\n",
            "The recommended test for Common Cold is Complete Blood Count (CBC)\n",
            "Hb: 123\n",
            "Lymphocuytes: 234\n",
            "Eosinophils: 345\n",
            "Monocytes: 456\n",
            "Basophils: 567\n",
            "Platelets: 678\n",
            "RBCs: 789\n",
            "File '/content/drive/MyDrive/Colab Notebooks/diagnosis.txt' created successfully.\n",
            "\n",
            "Thank you for using our Medical Assistance Chatbot!\n"
          ]
        }
      ],
      "source": [
        "!pip install python-docx\n",
        "\n",
        "import pandas as pd\n",
        "import numpy as np\n",
        "import datetime\n",
        "import csv\n",
        "\n",
        "from tabulate import tabulate\n",
        "from docx import Document\n",
        "from docx.enum.text import WD_BREAK\n",
        "\n",
        "\n",
        "# Function to get patient's personal details\n",
        "def get_personal_details():\n",
        "    personal_details = {}\n",
        "    '''print(\"Enter patient's personal details:\")\n",
        "    personal_details['Name'] = input(\"Name: \")\n",
        "    personal_details[\"Father's Name\"] = input(\"Father's Name: \")\n",
        "    personal_details[\"Mother's Name\"] = input(\"Mother's Name: \")\n",
        "    personal_details['Address'] = input(\"Address: \")\n",
        "    personal_details['Phone Number'] = input(\"Phone Number: \")\n",
        "    personal_details['Email ID'] = input(\"Email ID: \")\n",
        "    personal_details['Height'] = float(input(\"Height in cm: \"))\n",
        "    personal_details['Weight'] = float(input(\"Weight in kg: \"))\n",
        "    personal_details['Physical Activity Level'] = input(\"Physical Activity Level: \")\n",
        "    personal_details['Body Temperature'] = float(input(\"Body Temperature in Celsius: \"))\n",
        "    personal_details['Blood Pressure'] = input(\"Blood Pressure: \")\n",
        "    personal_details['Pulse Rate'] = int(input(\"Pulse Rate: \"))\n",
        "    personal_details['Allergies'] = input(\"Allergies: \")\n",
        "    personal_details['Medications'] = input(\"Medications: \")\n",
        "    personal_details['Occupation'] = input(\"Occupation: \")\n",
        "    personal_details['Emergency Contact Name'] = input(\"Emergency Contact Name: \")\n",
        "    personal_details['Emergency Contact Number'] = input(\"Emergency Contact Number: \")\n",
        "    personal_details['Insurance Provider'] = input(\"Insurance Provider: \")\n",
        "    personal_details['Insurance Policy Number'] = input(\"Insurance Policy Number: \")'''\n",
        "\n",
        "    personal_details['Name'] = 'Albin'\n",
        "    personal_details[\"Father's Name\"] = 'Rony'\n",
        "    personal_details[\"Mother's Name\"] = 'Jeena'\n",
        "    personal_details['Address'] = \"No Address\"\n",
        "    personal_details['Phone Number'] = 989898989\n",
        "    personal_details['Email ID'] = 'arm29292'\n",
        "    personal_details['Height'] = 98\n",
        "    personal_details['Weight'] = 99\n",
        "    personal_details['Physical Activity Level'] = 'light'\n",
        "    personal_details['Body Temperature'] = 35\n",
        "    personal_details['Blood Pressure'] = 120/80\n",
        "    personal_details['Pulse Rate'] = 100\n",
        "    personal_details['Allergies'] = 'none'\n",
        "    personal_details['Medications'] = 'none'\n",
        "    personal_details['Occupation'] = 'student'\n",
        "    personal_details['Emergency Contact Name'] = 'nill'\n",
        "    personal_details['Emergency Contact Number'] = 'nill'\n",
        "    personal_details['Insurance Provider'] = 'no'\n",
        "    personal_details['Insurance Policy Number'] = 'no'\n",
        "\n",
        "    return personal_details\n",
        "\n",
        "# Function to get medical history and symptoms\n",
        "def get_medical_history_symptoms():\n",
        "    medical_history = []\n",
        "    print(\"\\nEnter patient's medical history:\")\n",
        "    while True:\n",
        "        condition = input(\"Enter a medical condition (or 'done' to finish): \")\n",
        "        if condition.lower() == 'done':\n",
        "            break\n",
        "        medical_history.append(condition)\n",
        "\n",
        "    symptoms = input(\"\\nEnter current symptoms: \")\n",
        "\n",
        "    return medical_history, symptoms\n",
        "\n",
        "# Function to generate case sheet for diagnosis\n",
        "def generate_diagnosis_case_sheet(name, symptoms, disease, test_result, testdetails):\n",
        "    case_sheet = [\n",
        "        ['Patient Name', name],\n",
        "        ['Symptoms', symptoms],\n",
        "        ['Diagnosis', disease],\n",
        "        ['Recommended Test', test_result],\n",
        "        ['Test Report Details', testdetails]\n",
        "    ]\n",
        "    return case_sheet\n",
        "\n",
        "# Function to write case sheet to file\n",
        "def write_to_file(file_path, content):\n",
        "    with open(file_path, 'w+') as file:\n",
        "        st = \"\\t\\t\\t\\t-----MEDICAL HISTORY-----\\n\\n\"\n",
        "        file.write(st)\n",
        "        file.write(content)\n",
        "        st = \"\\n\\n\\t\\t\\t\\t-----END OF FILE-----\"\n",
        "        file.write(st)\n",
        "\n",
        "# Get personal details from user\n",
        "personal_details = get_personal_details()\n",
        "personal_file_path = '/content/drive/MyDrive/Colab Notebooks/patient_details.txt'\n",
        "with open(personal_file_path, 'w+') as file:\n",
        "    st = \"\\t\\t\\t\\t-----PERSONAL DETAILS-----\\n\\n\"\n",
        "    file.write(st)\n",
        "    for key, value in personal_details.items():\n",
        "        file.write(f\"{key}: {value}\\n\")\n",
        "    st = \"\\n\\n\\t\\t\\t\\t-----END OF FILE-----\"\n",
        "    file.write(st)\n",
        "print(f\"File '{personal_file_path}' created successfully.\")\n",
        "\n",
        "# Get medical history and symptoms from user\n",
        "medical_history, symptoms = get_medical_history_symptoms()\n",
        "medical_file_path = '/content/drive/MyDrive/Colab Notebooks/medical_file.txt'\n",
        "medical_content = \"Medical History:\\n\"\n",
        "for condition in medical_history:\n",
        "    medical_content += f\"- {condition}\\n\"\n",
        "medical_content += \"\\nCurrent Symptoms:\\n\" + symptoms + \"\\n\"\n",
        "if 'Family Medical History' in personal_details:\n",
        "    medical_content += \"\\nFamily Medical History:\\n\" + personal_details['Family Medical History']\n",
        "write_to_file(medical_file_path, medical_content)\n",
        "print(f\"File '{medical_file_path}' created successfully.\")\n",
        "\n",
        "disease = predict_with_test_results(medical_content)\n",
        "print(disease)\n",
        "\n",
        "# MAPPING THE DISEASE TO THE TEST\n",
        "test_data = pd.read_csv('/content/drive/MyDrive/Colab Notebooks/test.csv')\n",
        "test_result = test_data[test_data['label'] == disease]['test'].values[0]\n",
        "print(f\"The recommended test for {disease} is {test_result}\")\n",
        "\n",
        "# MAPPING THE TEST  to the ATTRIBUTES OF THE TEST\n",
        "test_data = pd.read_csv('/content/drive/MyDrive/Colab Notebooks/test-details.csv')\n",
        "testdetails = test_data[test_data['Test'] == test_result]['Findings'].values[0]\n",
        "l = testdetails.split(', ')\n",
        "lv = []\n",
        "for x in l:\n",
        "  m = input(x+': ')\n",
        "  lv.append(m)\n",
        "i = 0\n",
        "st = 'TEST DETAILS: \\n\\n'\n",
        "for i in range(len(l)):\n",
        "  st += l[i] + ': ' + lv[i] + '\\n'\n",
        "\n",
        "# Generate diagnosis case sheet\n",
        "diagnosis_case_sheet = generate_diagnosis_case_sheet(personal_details['Name'], symptoms, disease, test_result, testdetails)\n",
        "diagnosis_file_path = '/content/drive/MyDrive/Colab Notebooks/diagnosis.txt'\n",
        "with open(diagnosis_file_path, 'w+') as file:\n",
        "    s = \"\\t\\t\\t\\t-----DIAGNOSIS REPORT-----\\n\\n\"\n",
        "    file.write(s)\n",
        "    for item in diagnosis_case_sheet:\n",
        "        file.write(f\"{item[0]}: {item[1]}\\n\")\n",
        "    file.write(st)\n",
        "    st = \"\\n\\n\\t\\t\\t\\t-----END OF FILE-----\"\n",
        "    file.write(st)\n",
        "print(f\"File '{diagnosis_file_path}' created successfully.\")\n",
        "\n",
        "print(\"\\nThank you for using our Medical Assistance Chatbot!\")"
      ]
    }
  ],
  "metadata": {
    "accelerator": "GPU",
    "colab": {
      "gpuType": "T4",
      "provenance": []
    },
    "kaggle": {
      "accelerator": "gpu",
      "dataSources": [
        {
          "datasetId": 3087304,
          "sourceId": 5312008,
          "sourceType": "datasetVersion"
        },
        {
          "modelInstanceId": 1893,
          "sourceId": 2610,
          "sourceType": "modelInstanceVersion"
        },
        {
          "modelInstanceId": 2180,
          "sourceId": 2938,
          "sourceType": "modelInstanceVersion"
        }
      ],
      "dockerImageVersionId": 30615,
      "isGpuEnabled": true,
      "isInternetEnabled": false,
      "language": "python",
      "sourceType": "notebook"
    },
    "kernelspec": {
      "display_name": "Python 3",
      "name": "python3"
    },
    "language_info": {
      "codemirror_mode": {
        "name": "ipython",
        "version": 3
      },
      "file_extension": ".py",
      "mimetype": "text/x-python",
      "name": "python",
      "nbconvert_exporter": "python",
      "pygments_lexer": "ipython3",
      "version": "3.10.12"
    },
    "papermill": {
      "default_parameters": {},
      "duration": 90.544979,
      "end_time": "2023-12-17T07:02:25.726756",
      "environment_variables": {},
      "exception": null,
      "input_path": "__notebook__.ipynb",
      "output_path": "__notebook__.ipynb",
      "parameters": {},
      "start_time": "2023-12-17T07:00:55.181777",
      "version": "2.4.0"
    }
  },
  "nbformat": 4,
  "nbformat_minor": 5
}